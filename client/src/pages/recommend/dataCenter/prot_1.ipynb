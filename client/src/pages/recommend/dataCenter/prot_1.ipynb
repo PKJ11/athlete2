{
  "cells": [
    {
      "cell_type": "code",
      "execution_count": null,
      "metadata": {
        "colab": {
          "base_uri": "https://localhost:8080/"
        },
        "id": "i-FcL-gKJWjZ",
        "outputId": "db7b980d-adc6-4aa8-fae0-297946f17687"
      },
      "outputs": [
        {
          "name": "stdout",
          "output_type": "stream",
          "text": [
            "Collecting faker\n",
            "  Downloading Faker-23.2.1-py3-none-any.whl (1.7 MB)\n",
            "\u001b[2K     \u001b[90m━━━━━━━━━━━━━━━━━━━━━━━━━━━━━━━━━━━━━━━━\u001b[0m \u001b[32m1.7/1.7 MB\u001b[0m \u001b[31m7.8 MB/s\u001b[0m eta \u001b[36m0:00:00\u001b[0m\n",
            "\u001b[?25hRequirement already satisfied: python-dateutil>=2.4 in /usr/local/lib/python3.10/dist-packages (from faker) (2.8.2)\n",
            "Requirement already satisfied: six>=1.5 in /usr/local/lib/python3.10/dist-packages (from python-dateutil>=2.4->faker) (1.16.0)\n",
            "Installing collected packages: faker\n",
            "Successfully installed faker-23.2.1\n"
          ]
        }
      ],
      "source": [
        "pip install faker"
      ]
    },
    {
      "cell_type": "code",
      "execution_count": null,
      "metadata": {
        "colab": {
          "base_uri": "https://localhost:8080/"
        },
        "id": "jDIjY_Nyy55d",
        "outputId": "52abb795-2d92-410f-81bf-b06a13392ad3"
      },
      "outputs": [
        {
          "name": "stdout",
          "output_type": "stream",
          "text": [
            "               Name  Gender  Age  Height (cm)  Weight (kg) Education Level  \\\n",
            "0         Tanvi Sen  Female   38          183           69        Bachelor   \n",
            "1  Vishal Mukherjee    Male   37          191           82        Bachelor   \n",
            "2      Anmol Mishra    Male   39          188           78          Master   \n",
            "3      Tanvi Khanna  Female   36          156           49        Bachelor   \n",
            "4      Yogesh Reddy    Male   26          186           71        Bachelor   \n",
            "\n",
            "   Training History Years         Level       Sport   Achievements  Location  \\\n",
            "0                      19  Professional  Basketball       Regional  Srinagar   \n",
            "1                      19  Professional  Basketball    State-Level     Patna   \n",
            "2                      21  Professional      Tennis       Regional   Dhanbad   \n",
            "3                      19  Professional   Wrestling  International     Delhi   \n",
            "4                       6      Semi-Pro      Tennis    State-Level  Amritsar   \n",
            "\n",
            "  Desired Sponsorship Type  Social Media Followers Annual Income  \n",
            "0                  Apparel                   96990     200k-300k  \n",
            "1                 Coaching                   65982    Above 700k  \n",
            "2                Nutrition                    1675     200k-300k  \n",
            "3                 Coaching                   65325     600k-700k  \n",
            "4                Financial                   14469     300k-400k  \n"
          ]
        }
      ],
      "source": [
        "import pandas as pd\n",
        "import numpy as np\n",
        "\n",
        "# Load names from the provided Excel file\n",
        "file_path = '/content/Corrected_Indian_Names.xlsx'\n",
        "names_df = pd.read_excel(file_path)\n",
        "\n",
        "# Extracting lists of names and last names\n",
        "male_first_names = names_df['Male Names'].dropna().tolist()\n",
        "female_first_names = names_df['Female Names'].dropna().tolist()\n",
        "last_names = names_df['Last Names'].dropna().tolist()\n",
        "\n",
        "# Total number of synthetic athlete profiles to generate\n",
        "num_athletes = 10000\n",
        "\n",
        "# Helper functions for BMI calculation and training years\n",
        "def calculate_weight_for_bmi(height_cm, gender, min_bmi=18, max_bmi=23.6):\n",
        "    if gender == 'Female' and height_cm > 183:  # Adjust height for female athletes if it exceeds the limit\n",
        "        height_cm = np.random.randint(155, 184)\n",
        "    min_weight_kg = (min_bmi * (height_cm / 100) ** 2)\n",
        "    max_weight_kg = (max_bmi * (height_cm / 100) ** 2)\n",
        "    if gender == 'Female':\n",
        "        return np.random.randint(max(40, np.ceil(min_weight_kg)), min(70, np.floor(max_weight_kg) + 1))\n",
        "    return np.random.randint(np.ceil(min_weight_kg), np.floor(max_weight_kg) + 1)\n",
        "\n",
        "def calculate_training_years(current_age):\n",
        "    start_age = np.random.randint(16, min(21, current_age))  # Athletes start training between ages 16 and 20\n",
        "    return current_age - start_age\n",
        "\n",
        "# Education levels and their corresponding weights\n",
        "education_levels = ['High School', 'Bachelor', 'Master', 'PhD']\n",
        "education_weights = [0.20, 0.60, 0.12, 0.08]\n",
        "\n",
        "# Generating synthetic athlete data\n",
        "athlete_data = []\n",
        "for _ in range(num_athletes):\n",
        "    gender = 'Male' if np.random.rand() < 0.65 else 'Female'\n",
        "    first_name = np.random.choice(male_first_names if gender == 'Male' else female_first_names)\n",
        "    last_name = np.random.choice(last_names)\n",
        "    name = f\"{first_name} {last_name}\"\n",
        "    age = np.random.randint(18, 40)\n",
        "    height = np.random.randint(155, 210) if gender == 'Male' else np.random.randint(155, 184)\n",
        "    weight = calculate_weight_for_bmi(height, gender)\n",
        "    education_level = np.random.choice(education_levels, p=education_weights)\n",
        "    training_years = calculate_training_years(age)\n",
        "    level = 'Amateur' if training_years < 3 else ('Semi-Pro' if training_years < 7 else 'Professional')\n",
        "    sport = 'Basketball' if ((gender == 'Male' and height > 190) or (gender == 'Female' and height >= 180)) else np.random.choice(['Soccer', 'Tennis', 'Swimming', 'Athletics', 'Cricket', 'Football', 'Wrestling', 'F1-Racing'])\n",
        "\n",
        "    athlete_data.append([\n",
        "        name, gender, age, height, weight, education_level, training_years, level, sport,\n",
        "        np.random.choice(['Regional', 'State-Level', 'National', 'International']),  # Achievements\n",
        "        np.random.choice(['Ahmedabad', 'Bangalore', 'Chennai', 'Delhi', 'Hyderabad', 'Jaipur', 'Kolkata', 'Mumbai', 'Pune', 'Surat', 'Lucknow', 'Kanpur', 'Nagpur', 'Indore', 'Thane', 'Bhopal', 'Visakhapatnam', 'Patna', 'Vadodara', 'Ghaziabad', 'Ludhiana', 'Agra', 'Nashik', 'Faridabad', 'Meerut', 'Rajkot', 'Varanasi', 'Srinagar', 'Aurangabad', 'Dhanbad', 'Amritsar', 'Allahabad']),  # Location\n",
        "        np.random.choice(['Equipment', 'Financial', 'Nutrition', 'Apparel', 'Coaching']),  # Desired Sponsorship Type\n",
        "        np.random.randint(100, 100000),  # Social Media Followers\n",
        "        np.random.choice(['100k-200k', '200k-300k', '300k-400k', '400k-500k', '600k-700k', 'Above 700k'])  # Annual Income\n",
        "    ])\n",
        "\n",
        "# Convert list of data into a DataFrame\n",
        "columns = ['Name', 'Gender', 'Age', 'Height (cm)', 'Weight (kg)', 'Education Level', 'Training History Years', 'Level', 'Sport', 'Achievements', 'Location', 'Desired Sponsorship Type', 'Social Media Followers', 'Annual Income']\n",
        "athlete_df = pd.DataFrame(athlete_data, columns=columns)\n",
        "\n",
        "# Display the first few rows of the DataFrame to verify the output\n",
        "print(athlete_df.head())\n",
        "\n",
        "# Save the DataFrame to a CSV file\n",
        "athlete_df.to_csv('enhanced_synthetic_athlete_data.csv', index=False)\n",
        "\n",
        "# Provide the file path for download\n"
      ]
    },
    {
      "cell_type": "code",
      "execution_count": 10,
      "metadata": {
        "colab": {
          "base_uri": "https://localhost:8080/",
          "height": 272
        },
        "id": "wBaNs-D44jxx",
        "outputId": "4bbc23b3-9253-42e0-d3b6-a8dc47261fcb"
      },
      "outputs": [
        {
          "name": "stdout",
          "output_type": "stream",
          "text": [
            "   Company Name         Industry    Budget Range       Location  \\\n",
            "0      Tech LLC  Food & Beverage    Over 100,000      Ahmedabad   \n",
            "1    Tech Group          Fashion  20,000-100,000  Visakhapatnam   \n",
            "2  Finance Inc.       Technology  20,000-100,000      Ghaziabad   \n",
            "3     Food Inc.          Fashion     1,000-5,000       Ludhiana   \n",
            "4  Health Group       Healthcare  20,000-100,000       Varanasi   \n",
            "\n",
            "  Target Audience   Marketing Goals  Commitment Level Years Preferred Sport  \n",
            "0         Seniors    Sales Increase                    4.85      Basketball  \n",
            "1         Seniors  Market Expansion                    0.76          Tennis  \n",
            "2           Teens    Sales Increase                    4.09       Wrestling  \n",
            "3         Seniors   Brand Awareness                    4.09          Soccer  \n",
            "4          Adults  Market Expansion                    1.00      Basketball  \n"
          ]
        },
        {
          "data": {
            "application/vnd.google.colaboratory.intrinsic+json": {
              "type": "string"
            },
            "text/plain": [
              "'/mnt/data/synthetic_sponsor_data.csv'"
            ]
          },
          "execution_count": 10,
          "metadata": {},
          "output_type": "execute_result"
        }
      ],
      "source": [
        "import pandas as pd\n",
        "import numpy as np\n",
        "\n",
        "# Assume these are the sports that sponsors might be interested in\n",
        "sports_list = ['Soccer', 'Basketball', 'Tennis', 'Swimming', 'Athletics', 'Cricket', 'Football', 'Wrestling', 'F1-Racing']\n",
        "\n",
        "# Total number of synthetic sponsor profiles to generate\n",
        "num_sponsors = 1000\n",
        "\n",
        "# Generating synthetic sponsor data\n",
        "sponsor_data = []\n",
        "for _ in range(num_sponsors):\n",
        "    company_name = f\"{np.random.choice(['Tech', 'Sports', 'Health', 'Food', 'Fashion', 'Finance'])} {np.random.choice(['Corporation', 'Group', 'LLC', 'Inc.', 'Ltd.'])}\"\n",
        "    industry = np.random.choice(['Technology', 'Sports', 'Healthcare', 'Food & Beverage', 'Fashion', 'Finance'])\n",
        "    budget_range = np.random.choice(['1,000-5,000', '5,000-20,000', '20,000-100,000', 'Over 100,000'])\n",
        "    location = np.random.choice(['Ahmedabad', 'Bangalore', 'Chennai', 'Delhi', 'Hyderabad', 'Jaipur', 'Kolkata', 'Mumbai', 'Pune', 'Surat', 'Lucknow', 'Kanpur', 'Nagpur', 'Indore', 'Thane', 'Bhopal', 'Visakhapatnam', 'Patna', 'Vadodara', 'Ghaziabad', 'Ludhiana', 'Agra', 'Nashik', 'Faridabad', 'Meerut', 'Rajkot', 'Varanasi', 'Srinagar', 'Aurangabad', 'Dhanbad', 'Amritsar', 'Allahabad'])\n",
        "    target_audience = np.random.choice(['Teens', 'Young Adults', 'Adults', 'Seniors'])\n",
        "    marketing_goals = np.random.choice(['Brand Awareness', 'Sales Increase', 'Market Expansion'])\n",
        "    commitment_level_years = round(np.random.uniform(0.5, 5), 2)\n",
        "    preferred_sport = np.random.choice(sports_list)\n",
        "\n",
        "    # Append sponsor profile to the list\n",
        "    sponsor_data.append([company_name, industry, budget_range, location, target_audience, marketing_goals, commitment_level_years, preferred_sport])\n",
        "\n",
        "# Convert list of data into a DataFrame\n",
        "columns = ['Company Name', 'Industry', 'Budget Range', 'Location', 'Target Audience', 'Marketing Goals', 'Commitment Level Years', 'Preferred Sport']\n",
        "sponsor_df = pd.DataFrame(sponsor_data, columns=columns)\n",
        "\n",
        "# Display the first few rows of the DataFrame to verify the output\n",
        "print(sponsor_df.head())\n",
        "\n",
        "# Save the DataFrame to a CSV file\n",
        "output_file_sponsors = '/mnt/data/synthetic_sponsor_data.csv'\n",
        "sponsor_df.to_csv('enhanced_synthetic_sponsor_data.csv', index=False)\n",
        "\n",
        "# Provide the file path for download\n",
        "output_file_sponsors\n",
        "# Re-import necessary libraries and reload data due to reset\n",
        "import pandas as pd\n",
        "\n",
        "# Load the sponsor dataset again\n",
        "sponsor_data_path = '/mnt/data/enhanced_synthetic_sponsor_data (2).csv'\n",
        "sponsor_data = pd.read_csv(sponsor_data_path)\n",
        "\n",
        "# Replace the company names with unique names\n",
        "sponsor_data['Company Name'] = 'Company_' + sponsor_data.index.astype(str)\n",
        "\n",
        "# Save the modified dataset\n",
        "modified_sponsor_data_path = '/mnt/data/modified_enhanced_synthetic_sponsor_data.csv'\n",
        "sponsor_data.to_csv(modified_sponsor_data_path, index=False)\n",
        "\n",
        "# Return the path to the modified file\n",
        "modified_sponsor_data_path\n"
      ]
    },
    {
      "cell_type": "code",
      "execution_count": 33,
      "metadata": {
        "colab": {
          "base_uri": "https://localhost:8080/"
        },
        "id": "IzpwIjA5Kmlx",
        "outputId": "adc7bc73-352f-4103-ee64-59cc6eb45b14"
      },
      "outputs": [
        {
          "name": "stdout",
          "output_type": "stream",
          "text": [
            "                    Athlete            Sponsor  Compatibility Score\n",
            "856658        Vivaan Bhatia  UniqueCompany_658                  1.0\n",
            "856968        Vivaan Bhatia  UniqueCompany_968                  1.0\n",
            "273443         Pranav Dalal  UniqueCompany_443                  1.0\n",
            "615222            Shiv Saha  UniqueCompany_222                  1.0\n",
            "615933            Shiv Saha  UniqueCompany_933                  1.0\n",
            "606399          Mamta Mehta  UniqueCompany_399                  1.0\n",
            "976240  Vedika Bandopadhyay  UniqueCompany_240                  1.0\n",
            "438950         Abhinav Jain  UniqueCompany_950                  1.0\n",
            "114326          Krish Menon  UniqueCompany_326                  1.0\n",
            "976573  Vedika Bandopadhyay  UniqueCompany_573                  1.0\n"
          ]
        }
      ],
      "source": [
        "import pandas as pd\n",
        "from sklearn.preprocessing import MinMaxScaler\n",
        "from sklearn.feature_extraction.text import CountVectorizer\n",
        "\n",
        "# Load the datasets\n",
        "athlete_data_path = '/content/enhanced_synthetic_athlete_data (6).csv'\n",
        "sponsor_data_path = '/content/manually_modified_enhanced_synthetic_sponsor_data.csv'\n",
        "athlete_data = pd.read_csv(athlete_data_path)\n",
        "sponsor_data = pd.read_csv(sponsor_data_path)\n",
        "\n",
        "# Basic cleaning and preprocessing\n",
        "athlete_data.drop_duplicates(inplace=True)\n",
        "sponsor_data.drop_duplicates(inplace=True)\n",
        "athlete_data.fillna(athlete_data.median(numeric_only=True), inplace=True)\n",
        "sponsor_data.fillna(sponsor_data.median(numeric_only=True), inplace=True)\n",
        "\n",
        "# Creating a subset of the athlete data for demonstration\n",
        "athlete_subset = athlete_data.sample(n=1000, random_state=42)\n",
        "\n",
        "# Feature Engineering\n",
        "def engineer_features(athletes, sponsors):\n",
        "    # Convert categorical features to numerical codes and normalize\n",
        "    scaler = MinMaxScaler()\n",
        "    categorical_columns = ['Location', 'Sport', 'Education Level', 'Level']\n",
        "    for column in categorical_columns:\n",
        "        if column in athletes.columns:\n",
        "            athletes[column + ' Code'] = pd.Categorical(athletes[column]).codes\n",
        "        if column in sponsors.columns:\n",
        "            sponsors[column + ' Code'] = pd.Categorical(sponsors[column]).codes\n",
        "\n",
        "    # Normalize features\n",
        "    athlete_features = [col + ' Code' for col in categorical_columns if col + ' Code' in athletes.columns]\n",
        "    sponsor_features = [col + ' Code' for col in categorical_columns if col + ' Code' in sponsors.columns]\n",
        "\n",
        "    if athlete_features:\n",
        "        athletes[athlete_features] = scaler.fit_transform(athletes[athlete_features])\n",
        "    if sponsor_features:\n",
        "        sponsors[sponsor_features] = scaler.fit_transform(sponsors[sponsor_features])\n",
        "\n",
        "    return athletes, sponsors\n",
        "\n",
        "athlete_subset, sponsor_data = engineer_features(athlete_subset, sponsor_data)\n",
        "\n",
        "# Compatibility score calculation\n",
        "def calculate_compatibility_scores(athletes, sponsors, vectorizer):\n",
        "    compatibility_scores = []\n",
        "    for _, athlete in athletes.iterrows():\n",
        "        for _, sponsor in sponsors.iterrows():\n",
        "            # Advanced compatibility calculations\n",
        "            scores = {\n",
        "                'location_score': 1 - abs(athlete.get('Location Code', 0) - sponsor.get('Location Code', 0)),\n",
        "                'sport_score': 1 - abs(athlete.get('Sport Code', 0) - sponsor.get('Preferred Sport Code', 0)),\n",
        "                'level_score': 1 - abs(athlete.get('Level Code', 0) - sponsor.get('Level Code', 0)),\n",
        "                # Additional scores can be added here based on other features\n",
        "            }\n",
        "            # Calculate average of the scores\n",
        "            total_score = sum(scores.values()) / len(scores)\n",
        "            compatibility_scores.append({\n",
        "                'Athlete': athlete['Name'],\n",
        "                'Sponsor': sponsor['Company Name'],\n",
        "                'Compatibility Score': total_score\n",
        "            })\n",
        "    return pd.DataFrame(compatibility_scores)\n",
        "\n",
        "# Vectorize 'Desired Sponsorship Type' and 'Target Audience'\n",
        "vectorizer = CountVectorizer()\n",
        "athlete_target_audience = vectorizer.fit_transform(athlete_subset['Desired Sponsorship Type'].astype(str))\n",
        "sponsor_target_audience = vectorizer.transform(sponsor_data['Target Audience'].astype(str))\n",
        "\n",
        "# Add vectorized features back to the athlete and sponsor dataframes for compatibility calculation\n",
        "for feature in vectorizer.get_feature_names_out():\n",
        "    athlete_subset[feature] = athlete_target_audience.toarray()[:, vectorizer.vocabulary_.get(feature, 0)]\n",
        "    sponsor_data[feature] = sponsor_target_audience.toarray()[:, vectorizer.vocabulary_.get(feature, 0)]\n",
        "\n",
        "# Calculate and rank compatibility scores\n",
        "compatibility_scores_df = calculate_compatibility_scores(athlete_subset, sponsor_data, vectorizer)\n",
        "top_pairs = compatibility_scores_df.sort_values(by='Compatibility Score', ascending=False).head(10)\n",
        "\n",
        "# Display the top 10 athlete-sponsor pairs based on compatibility scores\n",
        "print(top_pairs)\n"
      ]
    }
  ],
  "metadata": {
    "colab": {
      "provenance": []
    },
    "kernelspec": {
      "display_name": "Python 3",
      "name": "python3"
    },
    "language_info": {
      "name": "python"
    }
  },
  "nbformat": 4,
  "nbformat_minor": 0
}
